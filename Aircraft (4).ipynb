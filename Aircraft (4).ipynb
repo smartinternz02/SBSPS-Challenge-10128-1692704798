{
 "cells": [
  {
   "cell_type": "code",
   "execution_count": null,
   "metadata": {},
   "outputs": [],
   "source": []
  },
  {
   "cell_type": "code",
   "execution_count": null,
   "metadata": {},
   "outputs": [],
   "source": []
  },
  {
   "cell_type": "code",
   "execution_count": 2,
   "metadata": {},
   "outputs": [],
   "source": [
    "import numpy as np\n",
    "import pandas as pd"
   ]
  },
  {
   "cell_type": "code",
   "execution_count": null,
   "metadata": {},
   "outputs": [],
   "source": []
  },
  {
   "cell_type": "code",
   "execution_count": 3,
   "metadata": {},
   "outputs": [],
   "source": [
    "import tensorflow.keras\n",
    "from tensorflow.keras.models import Sequential\n",
    "from tensorflow.keras.layers import Dense"
   ]
  },
  {
   "cell_type": "code",
   "execution_count": 4,
   "metadata": {},
   "outputs": [],
   "source": [
    "model=Sequential()"
   ]
  },
  {
   "cell_type": "code",
   "execution_count": 5,
   "metadata": {},
   "outputs": [],
   "source": [
    "import tensorflow as tf\n",
    "from tensorflow.keras.preprocessing.image import ImageDataGenerator"
   ]
  },
  {
   "cell_type": "code",
   "execution_count": 6,
   "metadata": {},
   "outputs": [],
   "source": [
    "train_datagen = ImageDataGenerator(\n",
    "    rescale=1./255,\n",
    "    rotation_range=20,\n",
    "    width_shift_range=0.2,\n",
    "    height_shift_range=0.2,\n",
    "    shear_range=0.2,\n",
    "    zoom_range=0.2,\n",
    "    horizontal_flip=True,\n",
    "    fill_mode='nearest'\n",
    ")\n",
    "\n",
    "validation_datagen = ImageDataGenerator(rescale=1./255)"
   ]
  },
  {
   "cell_type": "code",
   "execution_count": 7,
   "metadata": {},
   "outputs": [],
   "source": [
    "\n",
    "import os, types\n",
    "import pandas as pd\n",
    "from botocore.client import Config\n",
    "import ibm_boto3\n",
    "\n",
    "def __iter__(self): return 0\n",
    "\n",
    "# @hidden_cell\n",
    "# The following code accesses a file in your IBM Cloud Object Storage. It includes your credentials.\n",
    "# You might want to remove those credentials before you share the notebook.\n",
    "cos_client = ibm_boto3.client(service_name='s3',\n",
    "    ibm_api_key_id='LHRvmbHLoIM-b2mYncTDMDI70Srcr_zKf6ElSGa4ywf-',\n",
    "    ibm_auth_endpoint=\"https://iam.cloud.ibm.com/oidc/token\",\n",
    "    config=Config(signature_version='oauth'),\n",
    "    endpoint_url='https://s3.private.us-south.cloud-object-storage.appdomain.cloud')\n",
    "\n",
    "bucket = 'aircraft-donotdelete-pr-oq3st0454ilb0h'\n",
    "object_key = 'Aircraft Dent Detection.zip'\n",
    "\n",
    "streaming_body_4 = cos_client.get_object(Bucket=bucket, Key=object_key)['Body']\n",
    "\n",
    "# Your data file was loaded into a botocore.response.StreamingBody object.\n",
    "# Please read the documentation of ibm_boto3 and pandas to learn more about the possibilities to load the data.\n",
    "# ibm_boto3 documentation: https://ibm.github.io/ibm-cos-sdk-python/\n",
    "# pandas documentation: http://pandas.pydata.org/\n",
    "\n"
   ]
  },
  {
   "cell_type": "code",
   "execution_count": 8,
   "metadata": {},
   "outputs": [],
   "source": [
    "from io import BytesIO\n",
    "import zipfile\n",
    "unzip=zipfile.ZipFile(BytesIO(streaming_body_4.read()),'r')\n",
    "file_paths=unzip.namelist()\n",
    "for path in file_paths:\n",
    "    unzip.extract(path)"
   ]
  },
  {
   "cell_type": "code",
   "execution_count": 9,
   "metadata": {},
   "outputs": [
    {
     "name": "stdout",
     "output_type": "stream",
     "text": [
      " aircraft-classification-model.tgz  \u001b[0m\u001b[01;34m'Aircraft Dent Detection'\u001b[0m/   Aircraft.h5\r\n"
     ]
    }
   ],
   "source": [
    "ls"
   ]
  },
  {
   "cell_type": "code",
   "execution_count": 10,
   "metadata": {},
   "outputs": [
    {
     "data": {
      "text/plain": [
       "'/home/wsuser/work'"
      ]
     },
     "execution_count": 10,
     "metadata": {},
     "output_type": "execute_result"
    }
   ],
   "source": [
    "pwd"
   ]
  },
  {
   "cell_type": "code",
   "execution_count": 11,
   "metadata": {},
   "outputs": [
    {
     "name": "stdout",
     "output_type": "stream",
     "text": [
      "Found 290 images belonging to 2 classes.\n"
     ]
    }
   ],
   "source": [
    "batch_size=24\n",
    "train_generator = train_datagen.flow_from_directory(\n",
    "    r'/home/wsuser/work/Aircraft Dent Detection/train/',\n",
    "    target_size=(224, 224),\n",
    "    batch_size=batch_size,\n",
    "    class_mode='binary'\n",
    ")"
   ]
  },
  {
   "cell_type": "code",
   "execution_count": 12,
   "metadata": {},
   "outputs": [
    {
     "name": "stdout",
     "output_type": "stream",
     "text": [
      "Found 21 images belonging to 2 classes.\n"
     ]
    }
   ],
   "source": [
    "validation_generator = validation_datagen.flow_from_directory(\n",
    "    r'/home/wsuser/work/Aircraft Dent Detection/test/',\n",
    "    target_size=(224, 224),\n",
    "    batch_size=batch_size,\n",
    "    class_mode='binary'\n",
    ")"
   ]
  },
  {
   "cell_type": "code",
   "execution_count": 13,
   "metadata": {},
   "outputs": [],
   "source": [
    "model = tf.keras.Sequential([\n",
    "    tf.keras.layers.Conv2D(32, (3, 3), activation='relu', input_shape=(224, 224, 3)),\n",
    "    tf.keras.layers.MaxPooling2D(2, 2),\n",
    "    tf.keras.layers.Conv2D(64, (3, 3), activation='relu'),\n",
    "    tf.keras.layers.MaxPooling2D(2, 2),\n",
    "    tf.keras.layers.Conv2D(128, (3, 3), activation='relu'),\n",
    "    tf.keras.layers.MaxPooling2D(2, 2),\n",
    "    tf.keras.layers.Flatten(),\n",
    "    tf.keras.layers.Dense(512, activation='relu'),\n",
    "    tf.keras.layers.Dense(1, activation='sigmoid')\n",
    "])\n",
    "\n",
    "model.compile(optimizer='adam', loss='binary_crossentropy', metrics=['accuracy'])\n"
   ]
  },
  {
   "cell_type": "code",
   "execution_count": null,
   "metadata": {},
   "outputs": [
    {
     "name": "stdout",
     "output_type": "stream",
     "text": [
      "Epoch 1/10\n",
      "12/12 [==============================] - 84s 7s/step - loss: 1.0676 - accuracy: 0.8872\n",
      "Epoch 2/10\n",
      "12/12 [==============================] - 90s 8s/step - loss: 0.3181 - accuracy: 0.8383\n",
      "Epoch 3/10\n",
      "12/12 [==============================] - 98s 8s/step - loss: 0.2312 - accuracy: 0.9060\n",
      "Epoch 4/10\n",
      "12/12 [==============================] - 99s 8s/step - loss: 0.2302 - accuracy: 0.9167\n",
      "Epoch 5/10\n",
      "12/12 [==============================] - 98s 8s/step - loss: 0.1975 - accuracy: 0.9135\n",
      "Epoch 6/10\n",
      "12/12 [==============================] - 99s 8s/step - loss: 0.1641 - accuracy: 0.9410\n",
      "Epoch 7/10\n",
      "12/12 [==============================] - 95s 8s/step - loss: 0.1599 - accuracy: 0.9211\n",
      "Epoch 8/10\n",
      " 2/12 [====>.........................] - ETA: 58s - loss: 0.0854 - accuracy: 0.9792 "
     ]
    }
   ],
   "source": [
    "epochs = 10\n",
    "history = model.fit(\n",
    "    train_generator,\n",
    "    steps_per_epoch=train_generator.n // batch_size,\n",
    "    epochs=epochs,\n",
    "    validation_data=validation_generator,\n",
    "    validation_steps=validation_generator.n // batch_size\n",
    ")\n"
   ]
  },
  {
   "cell_type": "code",
   "execution_count": null,
   "metadata": {},
   "outputs": [],
   "source": [
    "test_loss, test_accuracy = model.evaluate(train_generator, verbose=2)\n",
    "print(\"Test accuracy:\", test_accuracy)\n"
   ]
  },
  {
   "cell_type": "code",
   "execution_count": null,
   "metadata": {},
   "outputs": [],
   "source": [
    "image_path = '/home/wsuser/work/Aircraft Dent Detection/test/defect/0523005-222-Weu-0523005-100-Cessna-172L-Wing-Structure-Assy-RH-Damaged-3D_jpg.rf.0929846f483070a518d43caa58438aed.jpg'\n",
    "image = tf.keras.preprocessing.image.load_img(image_path, target_size=(224, 224))\n",
    "image_array = tf.keras.preprocessing.image.img_to_array(image)\n",
    "image_array = tf.expand_dims(image_array, 0)\n",
    "prediction = model.predict(image_array)\n",
    "if prediction[0][0] >= 0.5:\n",
    "    print(\"Defective\")\n",
    "else:\n",
    "    print(\"Non-Defective\")\n"
   ]
  },
  {
   "cell_type": "code",
   "execution_count": null,
   "metadata": {},
   "outputs": [],
   "source": [
    "image"
   ]
  },
  {
   "cell_type": "code",
   "execution_count": null,
   "metadata": {},
   "outputs": [],
   "source": [
    "x=image_array\n",
    "x"
   ]
  },
  {
   "cell_type": "code",
   "execution_count": null,
   "metadata": {},
   "outputs": [],
   "source": [
    "x.ndim"
   ]
  },
  {
   "cell_type": "code",
   "execution_count": null,
   "metadata": {},
   "outputs": [],
   "source": [
    "x=np.expand_dims(x,axis=0)\n",
    "print(x)"
   ]
  },
  {
   "cell_type": "code",
   "execution_count": null,
   "metadata": {},
   "outputs": [],
   "source": [
    "x.ndim"
   ]
  },
  {
   "cell_type": "code",
   "execution_count": null,
   "metadata": {},
   "outputs": [],
   "source": [
    "model.save('Aircraft.h5')"
   ]
  },
  {
   "cell_type": "code",
   "execution_count": null,
   "metadata": {},
   "outputs": [],
   "source": [
    "!pip install ibm_watson_machine_learning"
   ]
  },
  {
   "cell_type": "code",
   "execution_count": null,
   "metadata": {},
   "outputs": [],
   "source": [
    "from ibm_watson_machine_learning import APIClient\n",
    "wml_credentials={\"url\":\"https://us-south.ml.cloud.ibm.com\",\n",
    "                 \"apikey\" : \"VHCRqLhOp8v7TtfudpYguvVq6Wq1coPs5CBzKPG63axX\"}\n",
    "client=APIClient(wml_credentials)"
   ]
  },
  {
   "cell_type": "code",
   "execution_count": null,
   "metadata": {},
   "outputs": [],
   "source": [
    "client"
   ]
  },
  {
   "cell_type": "code",
   "execution_count": null,
   "metadata": {},
   "outputs": [],
   "source": [
    "def guid_from_space_name(client,space_name):\n",
    "    space=client.spaces.get_details()\n",
    "    return(next(item for item in space['resources'] if item['entity'][\"name\"]==space_name)['metadata']['id'])\n",
    "    "
   ]
  },
  {
   "cell_type": "code",
   "execution_count": null,
   "metadata": {},
   "outputs": [],
   "source": [
    "space_uid=guid_from_space_name(client,'model')\n",
    "print(\"Space UID =\"+space_uid)"
   ]
  },
  {
   "cell_type": "code",
   "execution_count": null,
   "metadata": {},
   "outputs": [],
   "source": [
    "client.set.default_space(space_uid)"
   ]
  },
  {
   "cell_type": "code",
   "execution_count": null,
   "metadata": {},
   "outputs": [],
   "source": [
    "client.software_specifications.list()"
   ]
  },
  {
   "cell_type": "code",
   "execution_count": null,
   "metadata": {},
   "outputs": [],
   "source": [
    "software_spec_uid=client.software_specifications.get_uid_by_name(\"tensorflow_rt22.2-py3.10\")\n",
    "software_spec_uid"
   ]
  },
  {
   "cell_type": "code",
   "execution_count": null,
   "metadata": {},
   "outputs": [],
   "source": [
    "import tensorflow as tf\n",
    "tf.__version__"
   ]
  },
  {
   "cell_type": "code",
   "execution_count": null,
   "metadata": {},
   "outputs": [],
   "source": [
    "ls"
   ]
  },
  {
   "cell_type": "code",
   "execution_count": null,
   "metadata": {},
   "outputs": [],
   "source": [
    "!tar -zcvf aircraft-classification-model.tgz Aircraft.h5"
   ]
  },
  {
   "cell_type": "code",
   "execution_count": null,
   "metadata": {},
   "outputs": [],
   "source": [
    "'''model_details=client.repository.store_model(model=\"aircraft-classification-model.tgz\",\n",
    "meta_props={client.repository.ModelMetaNames.NAME:\"Aircraft\",\n",
    "client.repository.ModelMetaNames.TYPE:\"tensorflow_rt22.2\",\n",
    "client.repository.ModelMetaNames.SOFTWARE_SPEC_UID:software_spec_uid})\n",
    "model_id=client.repository.get_model_uid(model_details)'''"
   ]
  },
  {
   "cell_type": "code",
   "execution_count": null,
   "metadata": {},
   "outputs": [],
   "source": [
    "model_id=client.repository.get_model_id(model_details)"
   ]
  },
  {
   "cell_type": "code",
   "execution_count": null,
   "metadata": {},
   "outputs": [],
   "source": [
    "model_id"
   ]
  },
  {
   "cell_type": "code",
   "execution_count": null,
   "metadata": {},
   "outputs": [],
   "source": []
  },
  {
   "cell_type": "code",
   "execution_count": 40,
   "metadata": {},
   "outputs": [
    {
     "data": {
      "text/plain": [
       "(array([[[[0.0000000e+00, 0.0000000e+00, 0.0000000e+00],\n",
       "          [0.0000000e+00, 0.0000000e+00, 0.0000000e+00],\n",
       "          [0.0000000e+00, 0.0000000e+00, 0.0000000e+00],\n",
       "          ...,\n",
       "          [0.0000000e+00, 3.9215689e-03, 0.0000000e+00],\n",
       "          [0.0000000e+00, 3.9215689e-03, 0.0000000e+00],\n",
       "          [0.0000000e+00, 3.9215689e-03, 0.0000000e+00]],\n",
       " \n",
       "         [[0.0000000e+00, 0.0000000e+00, 0.0000000e+00],\n",
       "          [0.0000000e+00, 0.0000000e+00, 0.0000000e+00],\n",
       "          [0.0000000e+00, 0.0000000e+00, 0.0000000e+00],\n",
       "          ...,\n",
       "          [0.0000000e+00, 2.1840080e-03, 0.0000000e+00],\n",
       "          [0.0000000e+00, 1.3521847e-03, 0.0000000e+00],\n",
       "          [0.0000000e+00, 5.2036130e-04, 0.0000000e+00]],\n",
       " \n",
       "         [[0.0000000e+00, 0.0000000e+00, 0.0000000e+00],\n",
       "          [0.0000000e+00, 0.0000000e+00, 0.0000000e+00],\n",
       "          [0.0000000e+00, 0.0000000e+00, 0.0000000e+00],\n",
       "          ...,\n",
       "          [0.0000000e+00, 0.0000000e+00, 0.0000000e+00],\n",
       "          [0.0000000e+00, 0.0000000e+00, 0.0000000e+00],\n",
       "          [0.0000000e+00, 0.0000000e+00, 0.0000000e+00]],\n",
       " \n",
       "         ...,\n",
       " \n",
       "         [[0.0000000e+00, 0.0000000e+00, 0.0000000e+00],\n",
       "          [0.0000000e+00, 0.0000000e+00, 0.0000000e+00],\n",
       "          [0.0000000e+00, 0.0000000e+00, 0.0000000e+00],\n",
       "          ...,\n",
       "          [0.0000000e+00, 0.0000000e+00, 0.0000000e+00],\n",
       "          [0.0000000e+00, 0.0000000e+00, 0.0000000e+00],\n",
       "          [0.0000000e+00, 0.0000000e+00, 0.0000000e+00]],\n",
       " \n",
       "         [[0.0000000e+00, 0.0000000e+00, 0.0000000e+00],\n",
       "          [0.0000000e+00, 0.0000000e+00, 0.0000000e+00],\n",
       "          [0.0000000e+00, 0.0000000e+00, 0.0000000e+00],\n",
       "          ...,\n",
       "          [0.0000000e+00, 0.0000000e+00, 0.0000000e+00],\n",
       "          [0.0000000e+00, 0.0000000e+00, 0.0000000e+00],\n",
       "          [0.0000000e+00, 0.0000000e+00, 0.0000000e+00]],\n",
       " \n",
       "         [[0.0000000e+00, 0.0000000e+00, 0.0000000e+00],\n",
       "          [0.0000000e+00, 0.0000000e+00, 0.0000000e+00],\n",
       "          [0.0000000e+00, 0.0000000e+00, 0.0000000e+00],\n",
       "          ...,\n",
       "          [0.0000000e+00, 0.0000000e+00, 0.0000000e+00],\n",
       "          [0.0000000e+00, 0.0000000e+00, 0.0000000e+00],\n",
       "          [0.0000000e+00, 0.0000000e+00, 0.0000000e+00]]],\n",
       " \n",
       " \n",
       "        [[[0.0000000e+00, 0.0000000e+00, 0.0000000e+00],\n",
       "          [0.0000000e+00, 0.0000000e+00, 0.0000000e+00],\n",
       "          [0.0000000e+00, 0.0000000e+00, 0.0000000e+00],\n",
       "          ...,\n",
       "          [0.0000000e+00, 0.0000000e+00, 0.0000000e+00],\n",
       "          [0.0000000e+00, 0.0000000e+00, 0.0000000e+00],\n",
       "          [0.0000000e+00, 0.0000000e+00, 0.0000000e+00]],\n",
       " \n",
       "         [[0.0000000e+00, 0.0000000e+00, 0.0000000e+00],\n",
       "          [0.0000000e+00, 0.0000000e+00, 0.0000000e+00],\n",
       "          [0.0000000e+00, 0.0000000e+00, 0.0000000e+00],\n",
       "          ...,\n",
       "          [0.0000000e+00, 0.0000000e+00, 0.0000000e+00],\n",
       "          [0.0000000e+00, 0.0000000e+00, 0.0000000e+00],\n",
       "          [0.0000000e+00, 0.0000000e+00, 0.0000000e+00]],\n",
       " \n",
       "         [[0.0000000e+00, 0.0000000e+00, 0.0000000e+00],\n",
       "          [0.0000000e+00, 0.0000000e+00, 0.0000000e+00],\n",
       "          [0.0000000e+00, 0.0000000e+00, 0.0000000e+00],\n",
       "          ...,\n",
       "          [0.0000000e+00, 0.0000000e+00, 0.0000000e+00],\n",
       "          [0.0000000e+00, 0.0000000e+00, 0.0000000e+00],\n",
       "          [0.0000000e+00, 0.0000000e+00, 0.0000000e+00]],\n",
       " \n",
       "         ...,\n",
       " \n",
       "         [[0.0000000e+00, 0.0000000e+00, 0.0000000e+00],\n",
       "          [0.0000000e+00, 0.0000000e+00, 0.0000000e+00],\n",
       "          [0.0000000e+00, 0.0000000e+00, 0.0000000e+00],\n",
       "          ...,\n",
       "          [0.0000000e+00, 0.0000000e+00, 0.0000000e+00],\n",
       "          [0.0000000e+00, 0.0000000e+00, 0.0000000e+00],\n",
       "          [0.0000000e+00, 0.0000000e+00, 0.0000000e+00]],\n",
       " \n",
       "         [[0.0000000e+00, 0.0000000e+00, 0.0000000e+00],\n",
       "          [0.0000000e+00, 0.0000000e+00, 0.0000000e+00],\n",
       "          [0.0000000e+00, 0.0000000e+00, 0.0000000e+00],\n",
       "          ...,\n",
       "          [0.0000000e+00, 0.0000000e+00, 0.0000000e+00],\n",
       "          [0.0000000e+00, 0.0000000e+00, 0.0000000e+00],\n",
       "          [0.0000000e+00, 0.0000000e+00, 0.0000000e+00]],\n",
       " \n",
       "         [[0.0000000e+00, 0.0000000e+00, 0.0000000e+00],\n",
       "          [0.0000000e+00, 0.0000000e+00, 0.0000000e+00],\n",
       "          [0.0000000e+00, 0.0000000e+00, 0.0000000e+00],\n",
       "          ...,\n",
       "          [0.0000000e+00, 0.0000000e+00, 0.0000000e+00],\n",
       "          [0.0000000e+00, 0.0000000e+00, 0.0000000e+00],\n",
       "          [0.0000000e+00, 0.0000000e+00, 0.0000000e+00]]],\n",
       " \n",
       " \n",
       "        [[[7.0437932e-01, 7.0437932e-01, 6.9653618e-01],\n",
       "          [7.0980394e-01, 7.0980394e-01, 7.0544916e-01],\n",
       "          [7.1208304e-01, 7.1208304e-01, 7.1208304e-01],\n",
       "          ...,\n",
       "          [7.9607850e-01, 8.1960791e-01, 8.1960791e-01],\n",
       "          [7.9607850e-01, 8.1960791e-01, 8.1960791e-01],\n",
       "          [7.9607850e-01, 8.1960791e-01, 8.1960791e-01]],\n",
       " \n",
       "         [[7.0451069e-01, 7.0451069e-01, 6.9666749e-01],\n",
       "          [7.0980394e-01, 7.0980394e-01, 7.0558047e-01],\n",
       "          [7.1214867e-01, 7.1214867e-01, 7.1214867e-01],\n",
       "          ...,\n",
       "          [7.9607850e-01, 8.1960791e-01, 8.1960791e-01],\n",
       "          [7.9607850e-01, 8.1960791e-01, 8.1960791e-01],\n",
       "          [7.9607850e-01, 8.1960791e-01, 8.1960791e-01]],\n",
       " \n",
       "         [[7.0464194e-01, 7.0464194e-01, 6.9679880e-01],\n",
       "          [7.0980394e-01, 7.0980394e-01, 7.0571172e-01],\n",
       "          [7.1221429e-01, 7.1221429e-01, 7.1221429e-01],\n",
       "          ...,\n",
       "          [7.9607850e-01, 8.1960791e-01, 8.1960791e-01],\n",
       "          [7.9607850e-01, 8.1960791e-01, 8.1960791e-01],\n",
       "          [7.9607850e-01, 8.1960791e-01, 8.1960791e-01]],\n",
       " \n",
       "         ...,\n",
       " \n",
       "         [[6.7435372e-01, 6.9788313e-01, 6.9003999e-01],\n",
       "          [6.5603429e-01, 6.7956370e-01, 6.7172056e-01],\n",
       "          [6.6825026e-01, 6.8737561e-01, 6.7622936e-01],\n",
       "          ...,\n",
       "          [5.0196081e-01, 5.0980395e-01, 5.0588238e-01],\n",
       "          [5.0196081e-01, 5.0980395e-01, 5.0588238e-01],\n",
       "          [5.0196081e-01, 5.0980395e-01, 5.0588238e-01]],\n",
       " \n",
       "         [[6.7402548e-01, 6.9755489e-01, 6.8971175e-01],\n",
       "          [6.5616554e-01, 6.7969495e-01, 6.7185181e-01],\n",
       "          [6.6857851e-01, 6.8744123e-01, 6.7609805e-01],\n",
       "          ...,\n",
       "          [5.0196081e-01, 5.0980395e-01, 5.0588238e-01],\n",
       "          [5.0196081e-01, 5.0980395e-01, 5.0588238e-01],\n",
       "          [5.0196081e-01, 5.0980395e-01, 5.0588238e-01]],\n",
       " \n",
       "         [[6.7369723e-01, 6.9722664e-01, 6.8938351e-01],\n",
       "          [6.5629685e-01, 6.7982626e-01, 6.7198312e-01],\n",
       "          [6.6890675e-01, 6.8750685e-01, 6.7596680e-01],\n",
       "          ...,\n",
       "          [5.0196081e-01, 5.0980395e-01, 5.0588238e-01],\n",
       "          [5.0196081e-01, 5.0980395e-01, 5.0588238e-01],\n",
       "          [5.0196081e-01, 5.0980395e-01, 5.0588238e-01]]],\n",
       " \n",
       " \n",
       "        ...,\n",
       " \n",
       " \n",
       "        [[[3.9215689e-03, 3.9215689e-03, 3.9215689e-03],\n",
       "          [3.9215689e-03, 3.9215689e-03, 3.9215689e-03],\n",
       "          [3.9215689e-03, 3.9215689e-03, 3.9215689e-03],\n",
       "          ...,\n",
       "          [3.9215689e-03, 3.9215689e-03, 3.9215689e-03],\n",
       "          [3.9215689e-03, 3.9215689e-03, 3.9215689e-03],\n",
       "          [3.9215689e-03, 3.9215689e-03, 3.9215689e-03]],\n",
       " \n",
       "         [[3.9215689e-03, 3.9215689e-03, 3.9215689e-03],\n",
       "          [3.9215689e-03, 3.9215689e-03, 3.9215689e-03],\n",
       "          [3.9215689e-03, 3.9215689e-03, 3.9215689e-03],\n",
       "          ...,\n",
       "          [3.9215689e-03, 3.9215689e-03, 3.9215689e-03],\n",
       "          [3.9215689e-03, 3.9215689e-03, 3.9215689e-03],\n",
       "          [3.9215689e-03, 3.9215689e-03, 3.9215689e-03]],\n",
       " \n",
       "         [[3.9215689e-03, 3.9215689e-03, 3.9215689e-03],\n",
       "          [3.9215689e-03, 3.9215689e-03, 3.9215689e-03],\n",
       "          [3.9215689e-03, 3.9215689e-03, 3.9215689e-03],\n",
       "          ...,\n",
       "          [3.9215689e-03, 3.9215689e-03, 3.9215689e-03],\n",
       "          [3.9215689e-03, 3.9215689e-03, 3.9215689e-03],\n",
       "          [3.9215689e-03, 3.9215689e-03, 3.9215689e-03]],\n",
       " \n",
       "         ...,\n",
       " \n",
       "         [[3.9215689e-03, 3.9215689e-03, 3.9215689e-03],\n",
       "          [3.9215689e-03, 3.9215689e-03, 3.9215689e-03],\n",
       "          [3.9215689e-03, 3.9215689e-03, 3.9215689e-03],\n",
       "          ...,\n",
       "          [8.4400660e-01, 8.3921576e-01, 8.0523145e-01],\n",
       "          [8.4729928e-01, 8.3921576e-01, 8.0128014e-01],\n",
       "          [8.5059202e-01, 8.3921576e-01, 7.9732889e-01]],\n",
       " \n",
       "         [[3.9215689e-03, 3.9215689e-03, 3.9215689e-03],\n",
       "          [3.9215689e-03, 3.9215689e-03, 3.9215689e-03],\n",
       "          [3.9215689e-03, 3.9215689e-03, 3.9215689e-03],\n",
       "          ...,\n",
       "          [8.2104468e-01, 8.2179970e-01, 7.9985356e-01],\n",
       "          [8.2697165e-01, 8.2904375e-01, 8.0643910e-01],\n",
       "          [8.3289862e-01, 8.3628780e-01, 8.1302458e-01]],\n",
       " \n",
       "         [[3.9215689e-03, 3.9215689e-03, 3.9215689e-03],\n",
       "          [3.9215689e-03, 3.9215689e-03, 3.9215689e-03],\n",
       "          [3.9215689e-03, 3.9215689e-03, 3.9215689e-03],\n",
       "          ...,\n",
       "          [7.9012543e-01, 7.8422892e-01, 7.6462108e-01],\n",
       "          [7.9671097e-01, 7.9213154e-01, 7.7252370e-01],\n",
       "          [8.0296683e-01, 7.9970449e-01, 7.7976704e-01]]],\n",
       " \n",
       " \n",
       "        [[[7.2130722e-01, 7.1314108e-01, 6.6608226e-01],\n",
       "          [7.2714972e-01, 7.1930659e-01, 6.7224777e-01],\n",
       "          [7.3159194e-01, 7.2374880e-01, 6.7668998e-01],\n",
       "          ...,\n",
       "          [3.3022821e-01, 4.4787529e-01, 5.5767924e-01],\n",
       "          [3.3648399e-01, 4.5413107e-01, 5.6393498e-01],\n",
       "          [3.3696625e-01, 4.5461330e-01, 5.6441724e-01]],\n",
       " \n",
       "         [[7.3066258e-01, 7.2216010e-01, 6.7510128e-01],\n",
       "          [7.3169440e-01, 7.2385126e-01, 6.7538178e-01],\n",
       "          [7.2639751e-01, 7.1855438e-01, 6.7071885e-01],\n",
       "          ...,\n",
       "          [3.3353758e-01, 4.5118466e-01, 5.6098861e-01],\n",
       "          [3.3333334e-01, 4.5110545e-01, 5.6103444e-01],\n",
       "          [3.3333334e-01, 4.5143467e-01, 5.6169289e-01]],\n",
       " \n",
       "         [[7.3239988e-01, 7.2455674e-01, 6.7749792e-01],\n",
       "          [7.2997260e-01, 7.2212946e-01, 6.7249459e-01],\n",
       "          [7.2980666e-01, 7.2196352e-01, 6.7313832e-01],\n",
       "          ...,\n",
       "          [3.3333334e-01, 4.5486337e-01, 5.6855023e-01],\n",
       "          [3.3217084e-01, 4.5373946e-01, 5.6746501e-01],\n",
       "          [3.3085382e-01, 4.5242247e-01, 5.6614798e-01]],\n",
       " \n",
       "         ...,\n",
       " \n",
       "         [[7.1728492e-01, 6.8983394e-01, 6.2708884e-01],\n",
       "          [7.2292745e-01, 6.9547647e-01, 6.3273138e-01],\n",
       "          [7.2736621e-01, 6.9991523e-01, 6.3717014e-01],\n",
       "          ...,\n",
       "          [5.6034803e-01, 5.1721072e-01, 4.3505561e-01],\n",
       "          [5.3419435e-01, 4.8611534e-01, 4.0725347e-01],\n",
       "          [4.9678966e-01, 4.4990936e-01, 3.7744960e-01]],\n",
       " \n",
       "         [[7.1652168e-01, 6.8907070e-01, 6.2632555e-01],\n",
       "          [7.2254586e-01, 6.9509488e-01, 6.3234979e-01],\n",
       "          [7.2660303e-01, 6.9915205e-01, 6.3640696e-01],\n",
       "          ...,\n",
       "          [5.6454557e-01, 5.2140832e-01, 4.4077960e-01],\n",
       "          [5.3648400e-01, 4.8916814e-01, 4.0916145e-01],\n",
       "          [5.0213206e-01, 4.5448858e-01, 3.8164717e-01]],\n",
       " \n",
       "         [[7.1575850e-01, 6.8830752e-01, 6.2556237e-01],\n",
       "          [7.2216427e-01, 6.9471329e-01, 6.3196820e-01],\n",
       "          [7.2583979e-01, 6.9838881e-01, 6.3564372e-01],\n",
       "          ...,\n",
       "          [5.6874317e-01, 5.2560592e-01, 4.4650358e-01],\n",
       "          [5.3877360e-01, 4.9222091e-01, 4.1106948e-01],\n",
       "          [5.0747442e-01, 4.5906773e-01, 3.8584477e-01]]],\n",
       " \n",
       " \n",
       "        [[[0.0000000e+00, 0.0000000e+00, 0.0000000e+00],\n",
       "          [0.0000000e+00, 0.0000000e+00, 0.0000000e+00],\n",
       "          [0.0000000e+00, 0.0000000e+00, 0.0000000e+00],\n",
       "          ...,\n",
       "          [0.0000000e+00, 0.0000000e+00, 0.0000000e+00],\n",
       "          [0.0000000e+00, 0.0000000e+00, 0.0000000e+00],\n",
       "          [0.0000000e+00, 0.0000000e+00, 0.0000000e+00]],\n",
       " \n",
       "         [[0.0000000e+00, 0.0000000e+00, 0.0000000e+00],\n",
       "          [0.0000000e+00, 0.0000000e+00, 0.0000000e+00],\n",
       "          [0.0000000e+00, 0.0000000e+00, 0.0000000e+00],\n",
       "          ...,\n",
       "          [0.0000000e+00, 0.0000000e+00, 0.0000000e+00],\n",
       "          [0.0000000e+00, 0.0000000e+00, 0.0000000e+00],\n",
       "          [0.0000000e+00, 0.0000000e+00, 0.0000000e+00]],\n",
       " \n",
       "         [[0.0000000e+00, 0.0000000e+00, 0.0000000e+00],\n",
       "          [0.0000000e+00, 0.0000000e+00, 0.0000000e+00],\n",
       "          [0.0000000e+00, 0.0000000e+00, 0.0000000e+00],\n",
       "          ...,\n",
       "          [0.0000000e+00, 0.0000000e+00, 0.0000000e+00],\n",
       "          [0.0000000e+00, 0.0000000e+00, 0.0000000e+00],\n",
       "          [0.0000000e+00, 0.0000000e+00, 0.0000000e+00]],\n",
       " \n",
       "         ...,\n",
       " \n",
       "         [[0.0000000e+00, 0.0000000e+00, 0.0000000e+00],\n",
       "          [0.0000000e+00, 0.0000000e+00, 0.0000000e+00],\n",
       "          [0.0000000e+00, 0.0000000e+00, 0.0000000e+00],\n",
       "          ...,\n",
       "          [0.0000000e+00, 0.0000000e+00, 0.0000000e+00],\n",
       "          [0.0000000e+00, 0.0000000e+00, 0.0000000e+00],\n",
       "          [0.0000000e+00, 0.0000000e+00, 0.0000000e+00]],\n",
       " \n",
       "         [[0.0000000e+00, 0.0000000e+00, 0.0000000e+00],\n",
       "          [0.0000000e+00, 0.0000000e+00, 0.0000000e+00],\n",
       "          [0.0000000e+00, 0.0000000e+00, 0.0000000e+00],\n",
       "          ...,\n",
       "          [0.0000000e+00, 0.0000000e+00, 0.0000000e+00],\n",
       "          [0.0000000e+00, 0.0000000e+00, 0.0000000e+00],\n",
       "          [0.0000000e+00, 0.0000000e+00, 0.0000000e+00]],\n",
       " \n",
       "         [[0.0000000e+00, 0.0000000e+00, 0.0000000e+00],\n",
       "          [0.0000000e+00, 0.0000000e+00, 0.0000000e+00],\n",
       "          [0.0000000e+00, 0.0000000e+00, 0.0000000e+00],\n",
       "          ...,\n",
       "          [0.0000000e+00, 0.0000000e+00, 0.0000000e+00],\n",
       "          [0.0000000e+00, 0.0000000e+00, 0.0000000e+00],\n",
       "          [0.0000000e+00, 0.0000000e+00, 0.0000000e+00]]]], dtype=float32),\n",
       " array([1., 1., 1., 0., 1., 1., 1., 1., 1., 1., 1., 1., 1., 1., 1., 1., 1.,\n",
       "        1., 1., 1., 1., 1., 1., 1.], dtype=float32))"
      ]
     },
     "execution_count": 40,
     "metadata": {},
     "output_type": "execute_result"
    }
   ],
   "source": [
    "y=train_generator[0]\n",
    "y"
   ]
  },
  {
   "cell_type": "code",
   "execution_count": null,
   "metadata": {},
   "outputs": [],
   "source": []
  },
  {
   "cell_type": "code",
   "execution_count": null,
   "metadata": {},
   "outputs": [],
   "source": []
  }
 ],
 "metadata": {
  "kernelspec": {
   "display_name": "Python 3.10",
   "language": "python",
   "name": "python3"
  },
  "language_info": {
   "codemirror_mode": {
    "name": "ipython",
    "version": 3
   },
   "file_extension": ".py",
   "mimetype": "text/x-python",
   "name": "python",
   "nbconvert_exporter": "python",
   "pygments_lexer": "ipython3",
   "version": "3.10.9"
  }
 },
 "nbformat": 4,
 "nbformat_minor": 1
}
